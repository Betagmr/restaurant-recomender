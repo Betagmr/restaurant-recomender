{
 "cells": [
  {
   "cell_type": "code",
   "execution_count": 236,
   "metadata": {},
   "outputs": [],
   "source": [
    "from src.utilis import load_all_restaurants\n",
    "import pandas as pd\n",
    "import re\n",
    "import nltk\n",
    "from nltk.corpus import stopwords\n",
    "from nltk.tokenize import word_tokenize\n",
    "import matplotlib.pyplot as plt"
   ]
  },
  {
   "cell_type": "code",
   "execution_count": 237,
   "metadata": {},
   "outputs": [
    {
     "data": {
      "text/html": [
       "<div>\n",
       "<style scoped>\n",
       "    .dataframe tbody tr th:only-of-type {\n",
       "        vertical-align: middle;\n",
       "    }\n",
       "\n",
       "    .dataframe tbody tr th {\n",
       "        vertical-align: top;\n",
       "    }\n",
       "\n",
       "    .dataframe thead th {\n",
       "        text-align: right;\n",
       "    }\n",
       "</style>\n",
       "<table border=\"1\" class=\"dataframe\">\n",
       "  <thead>\n",
       "    <tr style=\"text-align: right;\">\n",
       "      <th></th>\n",
       "      <th>title</th>\n",
       "      <th>description</th>\n",
       "      <th>n_reviews</th>\n",
       "      <th>stars_avg</th>\n",
       "      <th>price_range</th>\n",
       "      <th>extra_features</th>\n",
       "      <th>street</th>\n",
       "      <th>opening_hours</th>\n",
       "      <th>phone_number</th>\n",
       "      <th>reviews</th>\n",
       "      <th>extra_content</th>\n",
       "      <th>unique_id</th>\n",
       "    </tr>\n",
       "  </thead>\n",
       "  <tbody>\n",
       "    <tr>\n",
       "      <th>0</th>\n",
       "      <td>Restaurante Abando</td>\n",
       "      <td>Restaurante de larga trayectoria con pinchos c...</td>\n",
       "      <td>3000</td>\n",
       "      <td>4,3</td>\n",
       "      <td>€€</td>\n",
       "      <td>Tiene terraza· Tiene Wi-Fi· Sillas altas dispo...</td>\n",
       "      <td>Colón de Larreátegui K., 31, Abando, 48009 Bil...</td>\n",
       "      <td>{'viernes': ['7:00–1:30'], 'sábado': ['7:00–1:...</td>\n",
       "      <td>944 24 57 79</td>\n",
       "      <td>['Agradable lugar para comer tanto a la carta ...</td>\n",
       "      <td>['Abando Bar Restaurante. Colón de Larreátegui...</td>\n",
       "      <td>Restaurante Abando | Colón de Larreátegui K., ...</td>\n",
       "    </tr>\n",
       "    <tr>\n",
       "      <th>1</th>\n",
       "      <td>Bar-Restaurante \"La Roca\"</td>\n",
       "      <td>NaN</td>\n",
       "      <td>11000</td>\n",
       "      <td>4,2</td>\n",
       "      <td>20-30€</td>\n",
       "      <td>Ideal para ver deportes· Sillas altas disponib...</td>\n",
       "      <td>Archivo Histórico Provincial, Ercilla Kalea, 1...</td>\n",
       "      <td>{'sábado': ['12:00–24:00'], 'domingo': ['Cerra...</td>\n",
       "      <td>944 25 50 09</td>\n",
       "      <td>['No suelo poner reseñas, pero esta vez, lo me...</td>\n",
       "      <td>['... café baristas cerveza metodología de tir...</td>\n",
       "      <td>Bar-Restaurante \"La Roca\" | Archivo Histórico ...</td>\n",
       "    </tr>\n",
       "    <tr>\n",
       "      <th>2</th>\n",
       "      <td>La Gavilla Bilbao</td>\n",
       "      <td>Restaurante funcional y acogedor que ofrece pl...</td>\n",
       "      <td>11000</td>\n",
       "      <td>4,5</td>\n",
       "      <td>30-40€</td>\n",
       "      <td>NaN</td>\n",
       "      <td>Colón de Larreátegui K., N.32, Abando, 48009 B...</td>\n",
       "      <td>{'sábado': ['12:00–24:00'], 'domingo': ['Cerra...</td>\n",
       "      <td>944 25 68 38</td>\n",
       "      <td>['Veamos, sólo comí cuatro pinchos que estaban...</td>\n",
       "      <td>['Céntrico establecimiento que se ha puesto ba...</td>\n",
       "      <td>La Gavilla Bilbao | Colón de Larreátegui K., N...</td>\n",
       "    </tr>\n",
       "    <tr>\n",
       "      <th>3</th>\n",
       "      <td>La Kedada Bilbao</td>\n",
       "      <td>Bar restaurante de un hotel moderno y de pared...</td>\n",
       "      <td>54</td>\n",
       "      <td>4,0</td>\n",
       "      <td>NaN</td>\n",
       "      <td>Tiene terraza· Tiene comedor privado· Tiene Wi-Fi</td>\n",
       "      <td>Rodríguez Arias K., 66, Bajo, Abando, 48013 Bi...</td>\n",
       "      <td>{'sábado': ['19:00–23:00'], 'domingo': ['19:00...</td>\n",
       "      <td>944 41 31 00</td>\n",
       "      <td>['La comida esta rica lo que pasa que algunos ...</td>\n",
       "      <td>['El restaurante Bar Restaurante La Kedada est...</td>\n",
       "      <td>La Kedada Bilbao | Rodríguez Arias K., 66, Baj...</td>\n",
       "    </tr>\n",
       "    <tr>\n",
       "      <th>4</th>\n",
       "      <td>Restaurante Aralar</td>\n",
       "      <td>NaN</td>\n",
       "      <td>883</td>\n",
       "      <td>4,3</td>\n",
       "      <td>10-20€</td>\n",
       "      <td>Se puede bailar· Tiene Wi-Fi· Sillas altas dis...</td>\n",
       "      <td>Ibáñez de Bilbao Kalea, nº 16, Abando, 48001 B...</td>\n",
       "      <td>{'sábado': ['12:00–21:00'], 'domingo': ['Cerra...</td>\n",
       "      <td>944 23 09 52</td>\n",
       "      <td>['No me gusta mucho ir a sitios de ningún part...</td>\n",
       "      <td>['Calle Ibáñez de Bilbao 16 Sabin Etxea. 48001...</td>\n",
       "      <td>Restaurante Aralar | Ibáñez de Bilbao Kalea, n...</td>\n",
       "    </tr>\n",
       "  </tbody>\n",
       "</table>\n",
       "</div>"
      ],
      "text/plain": [
       "                       title  \\\n",
       "0         Restaurante Abando   \n",
       "1  Bar-Restaurante \"La Roca\"   \n",
       "2          La Gavilla Bilbao   \n",
       "3           La Kedada Bilbao   \n",
       "4         Restaurante Aralar   \n",
       "\n",
       "                                         description  n_reviews stars_avg  \\\n",
       "0  Restaurante de larga trayectoria con pinchos c...       3000       4,3   \n",
       "1                                                NaN      11000       4,2   \n",
       "2  Restaurante funcional y acogedor que ofrece pl...      11000       4,5   \n",
       "3  Bar restaurante de un hotel moderno y de pared...         54       4,0   \n",
       "4                                                NaN        883       4,3   \n",
       "\n",
       "  price_range                                     extra_features  \\\n",
       "0          €€  Tiene terraza· Tiene Wi-Fi· Sillas altas dispo...   \n",
       "1      20-30€  Ideal para ver deportes· Sillas altas disponib...   \n",
       "2      30-40€                                                NaN   \n",
       "3         NaN  Tiene terraza· Tiene comedor privado· Tiene Wi-Fi   \n",
       "4      10-20€  Se puede bailar· Tiene Wi-Fi· Sillas altas dis...   \n",
       "\n",
       "                                              street  \\\n",
       "0  Colón de Larreátegui K., 31, Abando, 48009 Bil...   \n",
       "1  Archivo Histórico Provincial, Ercilla Kalea, 1...   \n",
       "2  Colón de Larreátegui K., N.32, Abando, 48009 B...   \n",
       "3  Rodríguez Arias K., 66, Bajo, Abando, 48013 Bi...   \n",
       "4  Ibáñez de Bilbao Kalea, nº 16, Abando, 48001 B...   \n",
       "\n",
       "                                       opening_hours  phone_number  \\\n",
       "0  {'viernes': ['7:00–1:30'], 'sábado': ['7:00–1:...  944 24 57 79   \n",
       "1  {'sábado': ['12:00–24:00'], 'domingo': ['Cerra...  944 25 50 09   \n",
       "2  {'sábado': ['12:00–24:00'], 'domingo': ['Cerra...  944 25 68 38   \n",
       "3  {'sábado': ['19:00–23:00'], 'domingo': ['19:00...  944 41 31 00   \n",
       "4  {'sábado': ['12:00–21:00'], 'domingo': ['Cerra...  944 23 09 52   \n",
       "\n",
       "                                             reviews  \\\n",
       "0  ['Agradable lugar para comer tanto a la carta ...   \n",
       "1  ['No suelo poner reseñas, pero esta vez, lo me...   \n",
       "2  ['Veamos, sólo comí cuatro pinchos que estaban...   \n",
       "3  ['La comida esta rica lo que pasa que algunos ...   \n",
       "4  ['No me gusta mucho ir a sitios de ningún part...   \n",
       "\n",
       "                                       extra_content  \\\n",
       "0  ['Abando Bar Restaurante. Colón de Larreátegui...   \n",
       "1  ['... café baristas cerveza metodología de tir...   \n",
       "2  ['Céntrico establecimiento que se ha puesto ba...   \n",
       "3  ['El restaurante Bar Restaurante La Kedada est...   \n",
       "4  ['Calle Ibáñez de Bilbao 16 Sabin Etxea. 48001...   \n",
       "\n",
       "                                           unique_id  \n",
       "0  Restaurante Abando | Colón de Larreátegui K., ...  \n",
       "1  Bar-Restaurante \"La Roca\" | Archivo Histórico ...  \n",
       "2  La Gavilla Bilbao | Colón de Larreátegui K., N...  \n",
       "3  La Kedada Bilbao | Rodríguez Arias K., 66, Baj...  \n",
       "4  Restaurante Aralar | Ibáñez de Bilbao Kalea, n...  "
      ]
     },
     "execution_count": 237,
     "metadata": {},
     "output_type": "execute_result"
    }
   ],
   "source": [
    "df = load_all_restaurants(\"data\\\\raw\")\n",
    "df.head()"
   ]
  },
  {
   "cell_type": "code",
   "execution_count": 238,
   "metadata": {},
   "outputs": [
    {
     "name": "stdout",
     "output_type": "stream",
     "text": [
      "<class 'pandas.core.frame.DataFrame'>\n",
      "Index: 835 entries, 0 to 97\n",
      "Data columns (total 12 columns):\n",
      " #   Column          Non-Null Count  Dtype \n",
      "---  ------          --------------  ----- \n",
      " 0   title           835 non-null    object\n",
      " 1   description     223 non-null    object\n",
      " 2   n_reviews       835 non-null    int64 \n",
      " 3   stars_avg       835 non-null    object\n",
      " 4   price_range     734 non-null    object\n",
      " 5   extra_features  358 non-null    object\n",
      " 6   street          767 non-null    object\n",
      " 7   opening_hours   832 non-null    object\n",
      " 8   phone_number    409 non-null    object\n",
      " 9   reviews         835 non-null    object\n",
      " 10  extra_content   835 non-null    object\n",
      " 11  unique_id       835 non-null    object\n",
      "dtypes: int64(1), object(11)\n",
      "memory usage: 84.8+ KB\n",
      "Número de nulos por columna:\n",
      "description       612\n",
      "price_range       101\n",
      "extra_features    477\n",
      "street             68\n",
      "opening_hours       3\n",
      "phone_number      426\n",
      "dtype: int64\n"
     ]
    }
   ],
   "source": [
    "#Información sobre las columnas.\n",
    "df.info()\n",
    "\n",
    "#Filtrar las columnas que tienen nulos.\n",
    "nulos_por_columna = df.isnull().sum()\n",
    "columnas_con_nulos = nulos_por_columna[nulos_por_columna > 0]\n",
    "\n",
    "print(\"Número de nulos por columna:\")\n",
    "print(columnas_con_nulos)"
   ]
  },
  {
   "cell_type": "markdown",
   "metadata": {},
   "source": [
    "Eliminamos la columna \"unique_id\" ya que es para pruebas de la parte de scrapear."
   ]
  },
  {
   "cell_type": "code",
   "execution_count": 239,
   "metadata": {},
   "outputs": [],
   "source": [
    "df = df.drop(columns=['unique_id'])"
   ]
  },
  {
   "cell_type": "markdown",
   "metadata": {},
   "source": [
    "Modificar columnas \"description\" y \"extra_features\". "
   ]
  },
  {
   "cell_type": "code",
   "execution_count": 240,
   "metadata": {},
   "outputs": [],
   "source": [
    "df['info'] = df['description'].astype(str) + ' ' + df['extra_features'].astype(str)+ ' ' + df['extra_content'].astype(str)+ ' ' + df['reviews'].astype(str)\n",
    "df = df.drop(columns=['description', 'extra_features','extra_content','reviews'])"
   ]
  },
  {
   "cell_type": "code",
   "execution_count": 241,
   "metadata": {},
   "outputs": [
    {
     "name": "stderr",
     "output_type": "stream",
     "text": [
      "[nltk_data] Downloading package punkt to C:\\Users\\USUARIO.DESKTOP-\n",
      "[nltk_data]     GN89KO5\\AppData\\Roaming\\nltk_data...\n",
      "[nltk_data]   Package punkt is already up-to-date!\n",
      "[nltk_data] Downloading package stopwords to C:\\Users\\USUARIO.DESKTOP-\n",
      "[nltk_data]     GN89KO5\\AppData\\Roaming\\nltk_data...\n",
      "[nltk_data]   Package stopwords is already up-to-date!\n"
     ]
    },
    {
     "data": {
      "text/plain": [
       "True"
      ]
     },
     "execution_count": 241,
     "metadata": {},
     "output_type": "execute_result"
    }
   ],
   "source": [
    "nltk.download('punkt')\n",
    "nltk.download('stopwords')"
   ]
  },
  {
   "cell_type": "code",
   "execution_count": 242,
   "metadata": {},
   "outputs": [
    {
     "name": "stdout",
     "output_type": "stream",
     "text": [
      "0     [restaurante, larga, trayectoria, pinchos, com...\n",
      "1     [ideal, ver, sillas, altas, admiten, perros, c...\n",
      "2     [restaurante, funcional, acogedor, ofrece, pla...\n",
      "3     [bar, restaurante, hotel, moderno, paredes, bl...\n",
      "4     [puede, sillas, altas, disponibles, ibáñez, bi...\n",
      "                            ...                        \n",
      "90    [ene, gaztelu, pubs, bares, bilbao, opiniones,...\n",
      "93    [sirve, comida, bar, bilbao, fotos, número, te...\n",
      "94    [jaureguibeitia, ibarra, conocido, cocherito, ...\n",
      "96    [multitud, recuerdos, enmarcados, decoran, tas...\n",
      "97    [moderno, espacio, decorado, fotos, artistas, ...\n",
      "Name: info, Length: 835, dtype: object\n"
     ]
    }
   ],
   "source": [
    "corpus = df['info'].astype(str).tolist()\n",
    "stop_words = set(stopwords.words('spanish'))\n",
    "\n",
    "processed_corpus = []\n",
    "\n",
    "for document in corpus:\n",
    "    words = [word.lower() for word in word_tokenize(document, language='spanish') if word.isalpha() and word.lower() not in stop_words and word.lower() != 'nan']\n",
    "\n",
    "    processed_corpus.append(words)\n",
    "\n",
    "#Reemplaza el contenido de la columna 'info' con su corpus correspondiente.\n",
    "df['info'] = processed_corpus\n",
    "\n",
    "print(df['info'])"
   ]
  },
  {
   "cell_type": "markdown",
   "metadata": {},
   "source": [
    "Ahora, cambiamos los valores de la columna \"price_ranges\". Primero, reemplazamos los nulos y los que tienen un símbolo de euro por el precio 10-20. Los que tienen doble símbolo de euro los cambiamos por 20-30."
   ]
  },
  {
   "cell_type": "code",
   "execution_count": 243,
   "metadata": {},
   "outputs": [],
   "source": [
    "df['price_range'] = df['price_range'].replace({\n",
    "    'Más de 100€': '+100€',\n",
    "    '€': '10-40€',\n",
    "    '€€': '40-80€',\n",
    "    '€€€': '+100€'\n",
    "})"
   ]
  },
  {
   "cell_type": "code",
   "execution_count": 244,
   "metadata": {},
   "outputs": [
    {
     "name": "stdout",
     "output_type": "stream",
     "text": [
      "price_range\n",
      "10-20€    265\n",
      "1-10€     238\n",
      "10-40€     71\n",
      "40-80€     63\n",
      "20-30€     47\n",
      "+100€      17\n",
      "1-20€      14\n",
      "30-40€      6\n",
      "10-30€      4\n",
      "50-60€      4\n",
      "20-40€      2\n",
      "40-50€      2\n",
      "70-80€      1\n",
      "Name: count, dtype: int64\n"
     ]
    }
   ],
   "source": [
    "#Muestra la cantidad de valores únicos en la columna.\n",
    "unique_prices = df['price_range'].value_counts()\n",
    "print(unique_prices)"
   ]
  },
  {
   "cell_type": "code",
   "execution_count": 245,
   "metadata": {},
   "outputs": [
    {
     "data": {
      "image/png": "[encoded data removed]",
      "text/plain": [
       "<Figure size 500x300 with 1 Axes>"
      ]
     },
     "metadata": {},
     "output_type": "display_data"
    }
   ],
   "source": [
    "df['price_range'].value_counts().plot(kind='bar',figsize=(5, 3))\n",
    "\n",
    "plt.title('Distribución de Precios')\n",
    "plt.xlabel('Rango de Precio')\n",
    "plt.ylabel('Cantidad')\n",
    "\n",
    "plt.show()"
   ]
  },
  {
   "cell_type": "markdown",
   "metadata": {},
   "source": [
    "Cambiamos el precio por 'barato','medio' o 'caro'."
   ]
  },
  {
   "cell_type": "code",
   "execution_count": 247,
   "metadata": {},
   "outputs": [],
   "source": [
    "#Función para asignar la categoría.\n",
    "def categorize_price(price_range):\n",
    "    # Verificar si el valor es un string\n",
    "    if isinstance(price_range, str):\n",
    "        # Dividir el rango de precios y obtener el último fragmento\n",
    "        last_fragment = price_range.split('-')[-1]\n",
    "        \n",
    "        # Buscar números en el último fragmento\n",
    "        numbers = re.findall(r'\\d+', last_fragment)\n",
    "        \n",
    "        # Verificar si hay números encontrados\n",
    "        if numbers:\n",
    "            # Obtener el precio máximo del rango\n",
    "            price_max = int(numbers[0])\n",
    "            \n",
    "            # Asignar categoría\n",
    "            if price_max <= 10:\n",
    "                return 'barato'\n",
    "            elif price_max <= 20:\n",
    "                return 'medio'\n",
    "            else:\n",
    "                return 'caro'\n",
    "        else:\n",
    "            # Manejar el caso donde no se encuentra ningún número\n",
    "            return 'No válido'\n",
    "    else:\n",
    "        # Manejar el caso donde el valor no es un string\n",
    "        return 'No válido'\n",
    "    \n",
    "    \n",
    "df['price_range'] = df['price_range'].apply(categorize_price)"
   ]
  },
  {
   "cell_type": "code",
   "execution_count": 248,
   "metadata": {},
   "outputs": [
    {
     "name": "stdout",
     "output_type": "stream",
     "text": [
      "price_range\n",
      "medio        279\n",
      "barato       238\n",
      "caro         217\n",
      "No válido    101\n",
      "Name: count, dtype: int64\n"
     ]
    }
   ],
   "source": [
    "#Muestra la cantidad de valores únicos en la columna.\n",
    "unique_prices = df['price_range'].value_counts()\n",
    "print(unique_prices)"
   ]
  }
 ],
 "metadata": {
  "kernelspec": {
   "display_name": ".venv",
   "language": "python",
   "name": "python3"
  },
  "language_info": {
   "codemirror_mode": {
    "name": "ipython",
    "version": 3
   },
   "file_extension": ".py",
   "mimetype": "text/x-python",
   "name": "python",
   "nbconvert_exporter": "python",
   "pygments_lexer": "ipython3",
   "version": "3.11.6"
  }
 },
 "nbformat": 4,
 "nbformat_minor": 2
}
